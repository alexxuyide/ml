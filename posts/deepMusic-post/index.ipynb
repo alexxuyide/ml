{
  "cells": [
    {
      "cell_type": "markdown",
      "metadata": {},
      "source": [
        "---\n",
        "title: \"Deep Music Genre Classification\"\n",
        "type: \"Blog Post\"\n",
        "date: 2024-05-16\n",
        "description: |\n",
        "    In this blog post, I constructed three neural networks and used them to classify music genres.\n",
        "objectives: \n",
        "  - Theory\n",
        "  - Implementation\n",
        "  - Experimentation\n",
        "publish: \"false\"\n",
        "---"
      ]
    },
    {
      "cell_type": "markdown",
      "metadata": {},
      "source": [
        "# Deep Music Genre Classification"
      ]
    },
    {
      "cell_type": "markdown",
      "metadata": {
        "id": "MICxXCX7v3Wh"
      },
      "source": [
        "## Abstract\n",
        "\n",
        "In this blog post, we will construct and implement deep learning neural network to classify song genres. The dataset we will be using is collected by researchers from Spotify and is available through [Kaggle](https://www.kaggle.com/datasets/saurabhshahane/music-dataset-1950-to-2019). The blog will build and train three different neural networks: one only based on lyrics, one only based on engineered features, and one on both lyrics and features. We will do training and testing and compare the performance of these three models."
      ]
    },
    {
      "cell_type": "markdown",
      "metadata": {},
      "source": [
        "## Preparation Steps"
      ]
    },
    {
      "cell_type": "markdown",
      "metadata": {
        "id": "Vu8Y58lUyVel"
      },
      "source": [
        "#### Data Exploration"
      ]
    },
    {
      "cell_type": "markdown",
      "metadata": {
        "id": "SOP5IJ7Pwtfn"
      },
      "source": [
        "First, we acquire data from the url. Here are some first rows of the data."
      ]
    },
    {
      "cell_type": "code",
      "execution_count": 1,
      "metadata": {
        "id": "aIhnUN9ebSP2"
      },
      "outputs": [],
      "source": [
        "import pandas as pd\n",
        "\n",
        "url = \"https://raw.githubusercontent.com/PhilChodrow/PIC16B/master/datasets/tcc_ceds_music.csv\"\n",
        "df = pd.read_csv(url)"
      ]
    },
    {
      "cell_type": "code",
      "execution_count": 2,
      "metadata": {
        "colab": {
          "base_uri": "https://localhost:8080/",
          "height": 655
        },
        "collapsed": true,
        "id": "ECr_YUffbcAE",
        "outputId": "c373dd75-86ae-4c95-b846-fd898df837f0"
      },
      "outputs": [
        {
          "data": {
            "application/vnd.google.colaboratory.intrinsic+json": {
              "type": "dataframe",
              "variable_name": "df"
            },
            "text/html": [
              "\n",
              "  <div id=\"df-d515a0d9-4f61-4b8c-98f4-d2a5d0af5d6b\" class=\"colab-df-container\">\n",
              "    <div>\n",
              "<style scoped>\n",
              "    .dataframe tbody tr th:only-of-type {\n",
              "        vertical-align: middle;\n",
              "    }\n",
              "\n",
              "    .dataframe tbody tr th {\n",
              "        vertical-align: top;\n",
              "    }\n",
              "\n",
              "    .dataframe thead th {\n",
              "        text-align: right;\n",
              "    }\n",
              "</style>\n",
              "<table border=\"1\" class=\"dataframe\">\n",
              "  <thead>\n",
              "    <tr style=\"text-align: right;\">\n",
              "      <th></th>\n",
              "      <th>Unnamed: 0</th>\n",
              "      <th>artist_name</th>\n",
              "      <th>track_name</th>\n",
              "      <th>release_date</th>\n",
              "      <th>genre</th>\n",
              "      <th>lyrics</th>\n",
              "      <th>len</th>\n",
              "      <th>dating</th>\n",
              "      <th>violence</th>\n",
              "      <th>world/life</th>\n",
              "      <th>...</th>\n",
              "      <th>sadness</th>\n",
              "      <th>feelings</th>\n",
              "      <th>danceability</th>\n",
              "      <th>loudness</th>\n",
              "      <th>acousticness</th>\n",
              "      <th>instrumentalness</th>\n",
              "      <th>valence</th>\n",
              "      <th>energy</th>\n",
              "      <th>topic</th>\n",
              "      <th>age</th>\n",
              "    </tr>\n",
              "  </thead>\n",
              "  <tbody>\n",
              "    <tr>\n",
              "      <th>0</th>\n",
              "      <td>0</td>\n",
              "      <td>mukesh</td>\n",
              "      <td>mohabbat bhi jhoothi</td>\n",
              "      <td>1950</td>\n",
              "      <td>pop</td>\n",
              "      <td>hold time feel break feel untrue convince spea...</td>\n",
              "      <td>95</td>\n",
              "      <td>0.000598</td>\n",
              "      <td>0.063746</td>\n",
              "      <td>0.000598</td>\n",
              "      <td>...</td>\n",
              "      <td>0.380299</td>\n",
              "      <td>0.117175</td>\n",
              "      <td>0.357739</td>\n",
              "      <td>0.454119</td>\n",
              "      <td>0.997992</td>\n",
              "      <td>0.901822</td>\n",
              "      <td>0.339448</td>\n",
              "      <td>0.137110</td>\n",
              "      <td>sadness</td>\n",
              "      <td>1.0</td>\n",
              "    </tr>\n",
              "    <tr>\n",
              "      <th>1</th>\n",
              "      <td>4</td>\n",
              "      <td>frankie laine</td>\n",
              "      <td>i believe</td>\n",
              "      <td>1950</td>\n",
              "      <td>pop</td>\n",
              "      <td>believe drop rain fall grow believe darkest ni...</td>\n",
              "      <td>51</td>\n",
              "      <td>0.035537</td>\n",
              "      <td>0.096777</td>\n",
              "      <td>0.443435</td>\n",
              "      <td>...</td>\n",
              "      <td>0.001284</td>\n",
              "      <td>0.001284</td>\n",
              "      <td>0.331745</td>\n",
              "      <td>0.647540</td>\n",
              "      <td>0.954819</td>\n",
              "      <td>0.000002</td>\n",
              "      <td>0.325021</td>\n",
              "      <td>0.263240</td>\n",
              "      <td>world/life</td>\n",
              "      <td>1.0</td>\n",
              "    </tr>\n",
              "    <tr>\n",
              "      <th>2</th>\n",
              "      <td>6</td>\n",
              "      <td>johnnie ray</td>\n",
              "      <td>cry</td>\n",
              "      <td>1950</td>\n",
              "      <td>pop</td>\n",
              "      <td>sweetheart send letter goodbye secret feel bet...</td>\n",
              "      <td>24</td>\n",
              "      <td>0.002770</td>\n",
              "      <td>0.002770</td>\n",
              "      <td>0.002770</td>\n",
              "      <td>...</td>\n",
              "      <td>0.002770</td>\n",
              "      <td>0.225422</td>\n",
              "      <td>0.456298</td>\n",
              "      <td>0.585288</td>\n",
              "      <td>0.840361</td>\n",
              "      <td>0.000000</td>\n",
              "      <td>0.351814</td>\n",
              "      <td>0.139112</td>\n",
              "      <td>music</td>\n",
              "      <td>1.0</td>\n",
              "    </tr>\n",
              "    <tr>\n",
              "      <th>3</th>\n",
              "      <td>10</td>\n",
              "      <td>pérez prado</td>\n",
              "      <td>patricia</td>\n",
              "      <td>1950</td>\n",
              "      <td>pop</td>\n",
              "      <td>kiss lips want stroll charm mambo chacha merin...</td>\n",
              "      <td>54</td>\n",
              "      <td>0.048249</td>\n",
              "      <td>0.001548</td>\n",
              "      <td>0.001548</td>\n",
              "      <td>...</td>\n",
              "      <td>0.225889</td>\n",
              "      <td>0.001548</td>\n",
              "      <td>0.686992</td>\n",
              "      <td>0.744404</td>\n",
              "      <td>0.083935</td>\n",
              "      <td>0.199393</td>\n",
              "      <td>0.775350</td>\n",
              "      <td>0.743736</td>\n",
              "      <td>romantic</td>\n",
              "      <td>1.0</td>\n",
              "    </tr>\n",
              "    <tr>\n",
              "      <th>4</th>\n",
              "      <td>12</td>\n",
              "      <td>giorgos papadopoulos</td>\n",
              "      <td>apopse eida oneiro</td>\n",
              "      <td>1950</td>\n",
              "      <td>pop</td>\n",
              "      <td>till darling till matter know till dream live ...</td>\n",
              "      <td>48</td>\n",
              "      <td>0.001350</td>\n",
              "      <td>0.001350</td>\n",
              "      <td>0.417772</td>\n",
              "      <td>...</td>\n",
              "      <td>0.068800</td>\n",
              "      <td>0.001350</td>\n",
              "      <td>0.291671</td>\n",
              "      <td>0.646489</td>\n",
              "      <td>0.975904</td>\n",
              "      <td>0.000246</td>\n",
              "      <td>0.597073</td>\n",
              "      <td>0.394375</td>\n",
              "      <td>romantic</td>\n",
              "      <td>1.0</td>\n",
              "    </tr>\n",
              "  </tbody>\n",
              "</table>\n",
              "<p>5 rows × 31 columns</p>\n",
              "</div>\n",
              "    <div class=\"colab-df-buttons\">\n",
              "\n",
              "  <div class=\"colab-df-container\">\n",
              "    <button class=\"colab-df-convert\" onclick=\"convertToInteractive('df-d515a0d9-4f61-4b8c-98f4-d2a5d0af5d6b')\"\n",
              "            title=\"Convert this dataframe to an interactive table.\"\n",
              "            style=\"display:none;\">\n",
              "\n",
              "  <svg xmlns=\"http://www.w3.org/2000/svg\" height=\"24px\" viewBox=\"0 -960 960 960\">\n",
              "    <path d=\"M120-120v-720h720v720H120Zm60-500h600v-160H180v160Zm220 220h160v-160H400v160Zm0 220h160v-160H400v160ZM180-400h160v-160H180v160Zm440 0h160v-160H620v160ZM180-180h160v-160H180v160Zm440 0h160v-160H620v160Z\"/>\n",
              "  </svg>\n",
              "    </button>\n",
              "\n",
              "  <style>\n",
              "    .colab-df-container {\n",
              "      display:flex;\n",
              "      gap: 12px;\n",
              "    }\n",
              "\n",
              "    .colab-df-convert {\n",
              "      background-color: #E8F0FE;\n",
              "      border: none;\n",
              "      border-radius: 50%;\n",
              "      cursor: pointer;\n",
              "      display: none;\n",
              "      fill: #1967D2;\n",
              "      height: 32px;\n",
              "      padding: 0 0 0 0;\n",
              "      width: 32px;\n",
              "    }\n",
              "\n",
              "    .colab-df-convert:hover {\n",
              "      background-color: #E2EBFA;\n",
              "      box-shadow: 0px 1px 2px rgba(60, 64, 67, 0.3), 0px 1px 3px 1px rgba(60, 64, 67, 0.15);\n",
              "      fill: #174EA6;\n",
              "    }\n",
              "\n",
              "    .colab-df-buttons div {\n",
              "      margin-bottom: 4px;\n",
              "    }\n",
              "\n",
              "    [theme=dark] .colab-df-convert {\n",
              "      background-color: #3B4455;\n",
              "      fill: #D2E3FC;\n",
              "    }\n",
              "\n",
              "    [theme=dark] .colab-df-convert:hover {\n",
              "      background-color: #434B5C;\n",
              "      box-shadow: 0px 1px 3px 1px rgba(0, 0, 0, 0.15);\n",
              "      filter: drop-shadow(0px 1px 2px rgba(0, 0, 0, 0.3));\n",
              "      fill: #FFFFFF;\n",
              "    }\n",
              "  </style>\n",
              "\n",
              "    <script>\n",
              "      const buttonEl =\n",
              "        document.querySelector('#df-d515a0d9-4f61-4b8c-98f4-d2a5d0af5d6b button.colab-df-convert');\n",
              "      buttonEl.style.display =\n",
              "        google.colab.kernel.accessAllowed ? 'block' : 'none';\n",
              "\n",
              "      async function convertToInteractive(key) {\n",
              "        const element = document.querySelector('#df-d515a0d9-4f61-4b8c-98f4-d2a5d0af5d6b');\n",
              "        const dataTable =\n",
              "          await google.colab.kernel.invokeFunction('convertToInteractive',\n",
              "                                                    [key], {});\n",
              "        if (!dataTable) return;\n",
              "\n",
              "        const docLinkHtml = 'Like what you see? Visit the ' +\n",
              "          '<a target=\"_blank\" href=https://colab.research.google.com/notebooks/data_table.ipynb>data table notebook</a>'\n",
              "          + ' to learn more about interactive tables.';\n",
              "        element.innerHTML = '';\n",
              "        dataTable['output_type'] = 'display_data';\n",
              "        await google.colab.output.renderOutput(dataTable, element);\n",
              "        const docLink = document.createElement('div');\n",
              "        docLink.innerHTML = docLinkHtml;\n",
              "        element.appendChild(docLink);\n",
              "      }\n",
              "    </script>\n",
              "  </div>\n",
              "\n",
              "\n",
              "<div id=\"df-d05c95c1-1508-4648-9eae-7edfcd180a70\">\n",
              "  <button class=\"colab-df-quickchart\" onclick=\"quickchart('df-d05c95c1-1508-4648-9eae-7edfcd180a70')\"\n",
              "            title=\"Suggest charts\"\n",
              "            style=\"display:none;\">\n",
              "\n",
              "<svg xmlns=\"http://www.w3.org/2000/svg\" height=\"24px\"viewBox=\"0 0 24 24\"\n",
              "     width=\"24px\">\n",
              "    <g>\n",
              "        <path d=\"M19 3H5c-1.1 0-2 .9-2 2v14c0 1.1.9 2 2 2h14c1.1 0 2-.9 2-2V5c0-1.1-.9-2-2-2zM9 17H7v-7h2v7zm4 0h-2V7h2v10zm4 0h-2v-4h2v4z\"/>\n",
              "    </g>\n",
              "</svg>\n",
              "  </button>\n",
              "\n",
              "<style>\n",
              "  .colab-df-quickchart {\n",
              "      --bg-color: #E8F0FE;\n",
              "      --fill-color: #1967D2;\n",
              "      --hover-bg-color: #E2EBFA;\n",
              "      --hover-fill-color: #174EA6;\n",
              "      --disabled-fill-color: #AAA;\n",
              "      --disabled-bg-color: #DDD;\n",
              "  }\n",
              "\n",
              "  [theme=dark] .colab-df-quickchart {\n",
              "      --bg-color: #3B4455;\n",
              "      --fill-color: #D2E3FC;\n",
              "      --hover-bg-color: #434B5C;\n",
              "      --hover-fill-color: #FFFFFF;\n",
              "      --disabled-bg-color: #3B4455;\n",
              "      --disabled-fill-color: #666;\n",
              "  }\n",
              "\n",
              "  .colab-df-quickchart {\n",
              "    background-color: var(--bg-color);\n",
              "    border: none;\n",
              "    border-radius: 50%;\n",
              "    cursor: pointer;\n",
              "    display: none;\n",
              "    fill: var(--fill-color);\n",
              "    height: 32px;\n",
              "    padding: 0;\n",
              "    width: 32px;\n",
              "  }\n",
              "\n",
              "  .colab-df-quickchart:hover {\n",
              "    background-color: var(--hover-bg-color);\n",
              "    box-shadow: 0 1px 2px rgba(60, 64, 67, 0.3), 0 1px 3px 1px rgba(60, 64, 67, 0.15);\n",
              "    fill: var(--button-hover-fill-color);\n",
              "  }\n",
              "\n",
              "  .colab-df-quickchart-complete:disabled,\n",
              "  .colab-df-quickchart-complete:disabled:hover {\n",
              "    background-color: var(--disabled-bg-color);\n",
              "    fill: var(--disabled-fill-color);\n",
              "    box-shadow: none;\n",
              "  }\n",
              "\n",
              "  .colab-df-spinner {\n",
              "    border: 2px solid var(--fill-color);\n",
              "    border-color: transparent;\n",
              "    border-bottom-color: var(--fill-color);\n",
              "    animation:\n",
              "      spin 1s steps(1) infinite;\n",
              "  }\n",
              "\n",
              "  @keyframes spin {\n",
              "    0% {\n",
              "      border-color: transparent;\n",
              "      border-bottom-color: var(--fill-color);\n",
              "      border-left-color: var(--fill-color);\n",
              "    }\n",
              "    20% {\n",
              "      border-color: transparent;\n",
              "      border-left-color: var(--fill-color);\n",
              "      border-top-color: var(--fill-color);\n",
              "    }\n",
              "    30% {\n",
              "      border-color: transparent;\n",
              "      border-left-color: var(--fill-color);\n",
              "      border-top-color: var(--fill-color);\n",
              "      border-right-color: var(--fill-color);\n",
              "    }\n",
              "    40% {\n",
              "      border-color: transparent;\n",
              "      border-right-color: var(--fill-color);\n",
              "      border-top-color: var(--fill-color);\n",
              "    }\n",
              "    60% {\n",
              "      border-color: transparent;\n",
              "      border-right-color: var(--fill-color);\n",
              "    }\n",
              "    80% {\n",
              "      border-color: transparent;\n",
              "      border-right-color: var(--fill-color);\n",
              "      border-bottom-color: var(--fill-color);\n",
              "    }\n",
              "    90% {\n",
              "      border-color: transparent;\n",
              "      border-bottom-color: var(--fill-color);\n",
              "    }\n",
              "  }\n",
              "</style>\n",
              "\n",
              "  <script>\n",
              "    async function quickchart(key) {\n",
              "      const quickchartButtonEl =\n",
              "        document.querySelector('#' + key + ' button');\n",
              "      quickchartButtonEl.disabled = true;  // To prevent multiple clicks.\n",
              "      quickchartButtonEl.classList.add('colab-df-spinner');\n",
              "      try {\n",
              "        const charts = await google.colab.kernel.invokeFunction(\n",
              "            'suggestCharts', [key], {});\n",
              "      } catch (error) {\n",
              "        console.error('Error during call to suggestCharts:', error);\n",
              "      }\n",
              "      quickchartButtonEl.classList.remove('colab-df-spinner');\n",
              "      quickchartButtonEl.classList.add('colab-df-quickchart-complete');\n",
              "    }\n",
              "    (() => {\n",
              "      let quickchartButtonEl =\n",
              "        document.querySelector('#df-d05c95c1-1508-4648-9eae-7edfcd180a70 button');\n",
              "      quickchartButtonEl.style.display =\n",
              "        google.colab.kernel.accessAllowed ? 'block' : 'none';\n",
              "    })();\n",
              "  </script>\n",
              "</div>\n",
              "    </div>\n",
              "  </div>\n"
            ],
            "text/plain": [
              "   Unnamed: 0           artist_name            track_name  release_date genre  \\\n",
              "0           0                mukesh  mohabbat bhi jhoothi          1950   pop   \n",
              "1           4         frankie laine             i believe          1950   pop   \n",
              "2           6           johnnie ray                   cry          1950   pop   \n",
              "3          10           pérez prado              patricia          1950   pop   \n",
              "4          12  giorgos papadopoulos    apopse eida oneiro          1950   pop   \n",
              "\n",
              "                                              lyrics  len    dating  violence  \\\n",
              "0  hold time feel break feel untrue convince spea...   95  0.000598  0.063746   \n",
              "1  believe drop rain fall grow believe darkest ni...   51  0.035537  0.096777   \n",
              "2  sweetheart send letter goodbye secret feel bet...   24  0.002770  0.002770   \n",
              "3  kiss lips want stroll charm mambo chacha merin...   54  0.048249  0.001548   \n",
              "4  till darling till matter know till dream live ...   48  0.001350  0.001350   \n",
              "\n",
              "   world/life  ...   sadness  feelings  danceability  loudness  acousticness  \\\n",
              "0    0.000598  ...  0.380299  0.117175      0.357739  0.454119      0.997992   \n",
              "1    0.443435  ...  0.001284  0.001284      0.331745  0.647540      0.954819   \n",
              "2    0.002770  ...  0.002770  0.225422      0.456298  0.585288      0.840361   \n",
              "3    0.001548  ...  0.225889  0.001548      0.686992  0.744404      0.083935   \n",
              "4    0.417772  ...  0.068800  0.001350      0.291671  0.646489      0.975904   \n",
              "\n",
              "   instrumentalness   valence    energy       topic  age  \n",
              "0          0.901822  0.339448  0.137110     sadness  1.0  \n",
              "1          0.000002  0.325021  0.263240  world/life  1.0  \n",
              "2          0.000000  0.351814  0.139112       music  1.0  \n",
              "3          0.199393  0.775350  0.743736    romantic  1.0  \n",
              "4          0.000246  0.597073  0.394375    romantic  1.0  \n",
              "\n",
              "[5 rows x 31 columns]"
            ]
          },
          "execution_count": 2,
          "metadata": {},
          "output_type": "execute_result"
        }
      ],
      "source": [
        "df.head()"
      ]
    },
    {
      "cell_type": "markdown",
      "metadata": {
        "id": "2PFtgFeOxCas"
      },
      "source": [
        "Here are the engineered features of the data. Each song receives a score below each category."
      ]
    },
    {
      "cell_type": "code",
      "execution_count": 3,
      "metadata": {
        "id": "r4GkjePUcQQz"
      },
      "outputs": [],
      "source": [
        "engineered_features = ['dating', 'violence', 'world/life', 'night/time','shake the audience','family/gospel', 'romantic', 'communication','obscene', 'music', 'movement/places', 'light/visual perceptions','family/spiritual', 'like/girls', 'sadness', 'feelings', 'danceability','loudness', 'acousticness', 'instrumentalness', 'valence', 'energy']"
      ]
    },
    {
      "cell_type": "markdown",
      "metadata": {
        "id": "yotd-qyOxZmy"
      },
      "source": [
        "Here are the genres of music in the dataset. We first want to encode the genre. Here I use LabelEncoder from scikit learn."
      ]
    },
    {
      "cell_type": "code",
      "execution_count": 4,
      "metadata": {
        "colab": {
          "base_uri": "https://localhost:8080/"
        },
        "id": "ZmrzyMR9cvJE",
        "outputId": "2e4c65a5-e9d1-4473-906e-d27de408bdeb"
      },
      "outputs": [
        {
          "data": {
            "text/plain": [
              "array(['pop', 'country', 'blues', 'jazz', 'reggae', 'rock', 'hip hop'],\n",
              "      dtype=object)"
            ]
          },
          "execution_count": 4,
          "metadata": {},
          "output_type": "execute_result"
        }
      ],
      "source": [
        "df[\"genre\"].unique()"
      ]
    },
    {
      "cell_type": "code",
      "execution_count": 5,
      "metadata": {
        "id": "LJ0jFSReeAYw"
      },
      "outputs": [],
      "source": [
        "from sklearn.preprocessing import LabelEncoder\n",
        "\n",
        "# Creating a instance of label Encoder.\n",
        "le = LabelEncoder()\n",
        "\n",
        "# Using .fit_transform function to fit label encoder and return encoded label\n",
        "label = le.fit_transform(df['genre'])\n",
        "\n",
        "df.drop(\"genre\", axis=1, inplace=True)\n",
        "\n",
        "# Appending the array to our dataFrame with column name 'Purchased'\n",
        "df[\"genre\"] = label"
      ]
    },
    {
      "cell_type": "code",
      "execution_count": 6,
      "metadata": {
        "colab": {
          "base_uri": "https://localhost:8080/"
        },
        "id": "IYRrb1zshhzx",
        "outputId": "005b8605-9f36-4935-91e9-ab53a32f39dd"
      },
      "outputs": [
        {
          "data": {
            "text/plain": [
              "array([4, 1, 0, 3, 5, 6, 2])"
            ]
          },
          "execution_count": 6,
          "metadata": {},
          "output_type": "execute_result"
        }
      ],
      "source": [
        "df['genre'].unique()"
      ]
    },
    {
      "cell_type": "markdown",
      "metadata": {
        "id": "-l9Y6IlfxpH-"
      },
      "source": [
        "Here is the percentage of each genre in the entire dataset. The music genre that occupies the largest proportion is Pop music (around 24.8%). It sets the base classification rate to be 24.8%."
      ]
    },
    {
      "cell_type": "code",
      "execution_count": 7,
      "metadata": {
        "colab": {
          "base_uri": "https://localhost:8080/"
        },
        "id": "S4PgEW6HemXL",
        "outputId": "73cdf199-60d8-42f7-9332-308b1adb88b5"
      },
      "outputs": [
        {
          "data": {
            "text/plain": [
              "genre\n",
              "0    0.162273\n",
              "1    0.191915\n",
              "2    0.031862\n",
              "3    0.135521\n",
              "4    0.248202\n",
              "5    0.088045\n",
              "6    0.142182\n",
              "dtype: float64"
            ]
          },
          "execution_count": 7,
          "metadata": {},
          "output_type": "execute_result"
        }
      ],
      "source": [
        "df.groupby(\"genre\").size() / len(df)"
      ]
    },
    {
      "cell_type": "markdown",
      "metadata": {
        "id": "Yt_IrVtPySYI"
      },
      "source": [
        "#### Data Loader\n",
        "\n",
        "Next, we want to define a data loader class, which we will use to load only batches of the data at a time. The indexer methods in TextDataFromDF class will return columns of lyrics, genre, and engineered features."
      ]
    },
    {
      "cell_type": "code",
      "execution_count": 9,
      "metadata": {
        "id": "VEMHBWaVgZUH"
      },
      "outputs": [],
      "source": [
        "from torch.utils.data import Dataset, DataLoader\n",
        "\n",
        "class TextDataFromDF(Dataset):\n",
        "    def __init__(self, df):\n",
        "        self.df = df\n",
        "\n",
        "    def __getitem__(self, index):\n",
        "        # 4 is lyrics, 30 is genre, 6-28 are features\n",
        "        return self.df.iloc[index, 4], self.df.iloc[index, 30], self.df.iloc[index, 6:28].values\n",
        "\n",
        "    def __len__(self):\n",
        "        return len(self.df)"
      ]
    },
    {
      "cell_type": "code",
      "execution_count": 10,
      "metadata": {
        "id": "461Mkh7XfWz6"
      },
      "outputs": [],
      "source": [
        "from sklearn.model_selection import train_test_split\n",
        "\n",
        "df_train, df_val = train_test_split(df,shuffle = True, test_size = 0.2)\n",
        "train_data = TextDataFromDF(df_train)\n",
        "val_data   = TextDataFromDF(df_val)"
      ]
    },
    {
      "cell_type": "code",
      "execution_count": 11,
      "metadata": {
        "colab": {
          "base_uri": "https://localhost:8080/"
        },
        "id": "4jQiCHlrhFwG",
        "outputId": "2b26c6a6-292e-407a-df2b-c1c4963a6368"
      },
      "outputs": [
        {
          "data": {
            "text/plain": [
              "('schmit couldn reason felt kind blue watch hello sweet friend come sing lullaby amend mama lookin acan start anew search finally come realize tellin lie livin afraid read line different today shin know couldn change mind twist point view kind choose reason lose lookin silly game',\n",
              " 4,\n",
              " array([0.0013157896412805, 0.0013157895964813, 0.322708678411067,\n",
              "        0.0013157896186701, 0.0013157894770102, 0.0279231073879107,\n",
              "        0.00131578966616, 0.2961412546260131, 0.1707160272570204,\n",
              "        0.0959860879895431, 0.001315789547777, 0.0423188121300265,\n",
              "        0.0284165576046225, 0.0013157895199298, 0.00131578953515,\n",
              "        0.0013157894850158, 0.5689375067691976, 0.5644437607363535,\n",
              "        0.3122483054701862, 0.0001751012145748, 0.4466199505358615,\n",
              "        0.4394219318961712], dtype=object))"
            ]
          },
          "execution_count": 11,
          "metadata": {},
          "output_type": "execute_result"
        }
      ],
      "source": [
        "train_data[194]"
      ]
    },
    {
      "cell_type": "markdown",
      "metadata": {
        "id": "3qtVISeFl1Ri"
      },
      "source": [
        "#### Tokenize Lyrics\n",
        "\n",
        "Further, we are going to tokenize the song lyrics and make it available for training. Basically, we split the sentence into words and assign number to each unique word."
      ]
    },
    {
      "cell_type": "code",
      "execution_count": 12,
      "metadata": {
        "collapsed": true,
        "id": "lu5Rp1n9meCL"
      },
      "outputs": [],
      "source": [
        "from torchtext.data.utils import get_tokenizer\n",
        "from torchtext.vocab import build_vocab_from_iterator\n",
        "\n",
        "tokenizer = get_tokenizer('basic_english')"
      ]
    },
    {
      "cell_type": "code",
      "execution_count": 13,
      "metadata": {
        "id": "e040OseClz_N"
      },
      "outputs": [],
      "source": [
        "def yield_tokens(data_iter):\n",
        "    for text, features, _ in data_iter:\n",
        "        yield tokenizer(text)\n",
        "\n",
        "vocab = build_vocab_from_iterator(yield_tokens(train_data), specials=[\"<unk>\"])\n",
        "vocab.set_default_index(vocab[\"<unk>\"])"
      ]
    },
    {
      "cell_type": "markdown",
      "metadata": {
        "id": "LtRcioYMov3F"
      },
      "source": [
        "#### Batch Collation\n",
        "\n",
        "We construct the function that is going to actually pass a batch of data to our training loop. The collation function will return three elements each set: the lyrics, the label (genre), and the features."
      ]
    },
    {
      "cell_type": "code",
      "execution_count": 14,
      "metadata": {
        "id": "0aCJQ4SIpJMs"
      },
      "outputs": [],
      "source": [
        "import torch\n",
        "device = torch.device(\"cuda\" if torch.cuda.is_available() else \"cpu\")\n",
        "max_len = 100\n",
        "num_tokens = len(vocab.get_itos())\n",
        "def text_pipeline(x):\n",
        "    tokens = vocab(tokenizer(x))\n",
        "    y = torch.zeros(max_len, dtype=torch.int64) + num_tokens\n",
        "    if len(tokens) > max_len:\n",
        "        tokens = tokens[0:max_len]\n",
        "    y[0:len(tokens)] = torch.tensor(tokens,dtype=torch.int64)\n",
        "    return y\n",
        "\n",
        "label_pipeline = lambda x: int(x)"
      ]
    },
    {
      "cell_type": "code",
      "execution_count": 15,
      "metadata": {
        "id": "4OhDadXiovVf"
      },
      "outputs": [],
      "source": [
        "def collate_batch(batch):\n",
        "    label_list, text_list, feature_list = [], [], []\n",
        "\n",
        "    for (_text, _label, _features) in batch:\n",
        "\n",
        "        # add label to list\n",
        "         label_list.append(label_pipeline(_label))\n",
        "\n",
        "         # add text (as sequence of integers) to list\n",
        "         processed_text = text_pipeline(_text)\n",
        "         text_list.append(processed_text)\n",
        "\n",
        "        # add feature as float to list\n",
        "         feature_list.append(torch.tensor(_features.astype(float), dtype=torch.float32))\n",
        "\n",
        "    label_list = torch.tensor(label_list, dtype=torch.int64)\n",
        "    text_list = torch.stack(text_list)\n",
        "    feature_list = torch.stack(feature_list)\n",
        "\n",
        "    return text_list.to(device), label_list.to(device), feature_list.to(device)\n",
        "\n",
        "train_loader = DataLoader(train_data, batch_size=8, shuffle=True, collate_fn=collate_batch)\n",
        "val_loader = DataLoader(val_data, batch_size=8, shuffle=True, collate_fn=collate_batch)"
      ]
    },
    {
      "cell_type": "markdown",
      "metadata": {
        "id": "uFxie8Mx5Foq"
      },
      "source": [
        "#### Training and Evaluation\n",
        "\n"
      ]
    },
    {
      "cell_type": "code",
      "execution_count": 23,
      "metadata": {
        "id": "7tuXF34Wb7N7"
      },
      "outputs": [],
      "source": [
        "import time\n",
        "\n",
        "def train(model, dataloader, use_lyrics = True, use_features = False):\n",
        "    epoch_start_time = time.time()\n",
        "    # keep track of some counts for measuring accuracy\n",
        "    total_acc, total_count = 0, 0\n",
        "    log_interval = 300\n",
        "    start_time = time.time()\n",
        "\n",
        "\n",
        "    for idx, (text, label, features) in enumerate(dataloader):\n",
        "\n",
        "        # zero gradients\n",
        "        optimizer.zero_grad()\n",
        "\n",
        "        # customize model input based on conditions\n",
        "        if use_lyrics and not use_features:\n",
        "          input = text\n",
        "        elif use_features and not use_lyrics:\n",
        "          input = features\n",
        "        else:\n",
        "          input = (text, features)\n",
        "\n",
        "        # form prediction on batch\n",
        "        predicted_label = model(input)\n",
        "\n",
        "        # evaluate loss on prediction\n",
        "        loss = loss_fn(predicted_label, label)\n",
        "\n",
        "        # compute gradient\n",
        "        loss.backward()\n",
        "        # take an optimization step\n",
        "        optimizer.step()\n",
        "\n",
        "        # for printing accuracy\n",
        "        total_acc   += (predicted_label.argmax(1) == label).sum().item()\n",
        "        total_count += label.size(0)\n",
        "\n",
        "    print(f'| epoch {epoch:3d} | train accuracy {total_acc/total_count:8.3f} | time: {time.time() - epoch_start_time:5.2f}s')\n",
        "\n",
        "def evaluate(model, dataloader, use_lyrics = True, use_features = False):\n",
        "\n",
        "    total_acc, total_count = 0, 0\n",
        "\n",
        "    with torch.no_grad():\n",
        "        for idx, (text, label, features) in enumerate(dataloader):\n",
        "\n",
        "            if use_lyrics and not use_features:\n",
        "              input = text\n",
        "            elif use_features and not use_lyrics:\n",
        "              input = features\n",
        "            else:\n",
        "              input = (text, features)\n",
        "\n",
        "            predicted_label = model(input)\n",
        "            total_acc += (predicted_label.argmax(1) == label).sum().item()\n",
        "            total_count += label.size(0)\n",
        "    return total_acc/total_count"
      ]
    },
    {
      "cell_type": "markdown",
      "metadata": {
        "id": "2YwdS3Nba7jZ"
      },
      "source": [
        "## First Neural Network: Only Using Lyrics"
      ]
    },
    {
      "cell_type": "markdown",
      "metadata": {
        "id": "MmMEUHTp4H8B"
      },
      "source": [
        "We are training our model only using the lyrics. The neural network architecture I used closely aligns to Professor Chodrow's lecture note on [Text Classification and Word Embedding](https://www.philchodrow.prof/ml-notes/chapters/72-text-classification.html). This network consists of an input embedding layer and an output linear layer."
      ]
    },
    {
      "cell_type": "code",
      "execution_count": 16,
      "metadata": {
        "id": "ZDmvt6Sqa8Ic"
      },
      "outputs": [],
      "source": [
        "from torch import nn\n",
        "\n",
        "# first neural network that uses lyrics\n",
        "class TextClassificationModel(nn.Module):\n",
        "\n",
        "    def __init__(self, vocab_size, embedding_dim, max_len, num_class):\n",
        "        super().__init__()\n",
        "        self.embedding = nn.Embedding(vocab_size+1, embedding_dim)\n",
        "        self.fc   = nn.Linear(max_len*embedding_dim, num_class)\n",
        "\n",
        "    def forward(self, x):\n",
        "        x = self.embedding(x)\n",
        "        x = torch.flatten(x, 1)\n",
        "        x = self.fc(x)\n",
        "        return(x)"
      ]
    },
    {
      "cell_type": "markdown",
      "metadata": {
        "id": "qLk7imEI6ETT"
      },
      "source": [
        "We set the word embedding dimension to be 4."
      ]
    },
    {
      "cell_type": "code",
      "execution_count": 17,
      "metadata": {
        "id": "_53BQpFFbJsZ"
      },
      "outputs": [],
      "source": [
        "vocab_size = len(vocab)\n",
        "embedding_dim = 4\n",
        "\n",
        "# initialize the model\n",
        "lyricsModel = TextClassificationModel(vocab_size, embedding_dim, max_len, 7).to(device)"
      ]
    },
    {
      "cell_type": "code",
      "execution_count": null,
      "metadata": {
        "colab": {
          "base_uri": "https://localhost:8080/"
        },
        "id": "m4iVdotkcHgH",
        "outputId": "def8f302-0e22-43f9-d28c-f3216ed43bec"
      },
      "outputs": [
        {
          "name": "stdout",
          "output_type": "stream",
          "text": [
            "| epoch   1 | train accuracy    0.207 | time: 24.12s\n",
            "| epoch   2 | train accuracy    0.238 | time: 25.01s\n",
            "| epoch   3 | train accuracy    0.258 | time: 25.73s\n",
            "| epoch   4 | train accuracy    0.281 | time: 26.31s\n",
            "| epoch   5 | train accuracy    0.301 | time: 24.88s\n",
            "| epoch   6 | train accuracy    0.334 | time: 24.94s\n",
            "| epoch   7 | train accuracy    0.357 | time: 25.92s\n",
            "| epoch   8 | train accuracy    0.379 | time: 24.62s\n",
            "| epoch   9 | train accuracy    0.410 | time: 25.32s\n",
            "| epoch  10 | train accuracy    0.438 | time: 25.38s\n",
            "| epoch  11 | train accuracy    0.458 | time: 24.86s\n",
            "| epoch  12 | train accuracy    0.484 | time: 24.88s\n",
            "| epoch  13 | train accuracy    0.505 | time: 25.81s\n",
            "| epoch  14 | train accuracy    0.525 | time: 25.73s\n",
            "| epoch  15 | train accuracy    0.546 | time: 26.38s\n",
            "| epoch  16 | train accuracy    0.564 | time: 24.84s\n",
            "| epoch  17 | train accuracy    0.582 | time: 24.96s\n",
            "| epoch  18 | train accuracy    0.599 | time: 24.71s\n",
            "| epoch  19 | train accuracy    0.615 | time: 25.89s\n",
            "| epoch  20 | train accuracy    0.636 | time: 26.10s\n",
            "| epoch  21 | train accuracy    0.653 | time: 25.23s\n",
            "| epoch  22 | train accuracy    0.665 | time: 25.25s\n",
            "| epoch  23 | train accuracy    0.679 | time: 25.18s\n",
            "| epoch  24 | train accuracy    0.694 | time: 27.20s\n",
            "| epoch  25 | train accuracy    0.704 | time: 24.96s\n",
            "| epoch  26 | train accuracy    0.717 | time: 26.47s\n",
            "| epoch  27 | train accuracy    0.729 | time: 24.36s\n",
            "| epoch  28 | train accuracy    0.738 | time: 25.45s\n",
            "| epoch  29 | train accuracy    0.750 | time: 25.02s\n",
            "| epoch  30 | train accuracy    0.762 | time: 24.65s\n"
          ]
        }
      ],
      "source": [
        "# initialize ADAM optimizer and loss function\n",
        "optimizer = torch.optim.Adam(lyricsModel.parameters(), lr=.001)\n",
        "loss_fn = torch.nn.CrossEntropyLoss()\n",
        "\n",
        "# set epochs to be 30\n",
        "EPOCHS = 30\n",
        "for epoch in range(1, EPOCHS + 1):\n",
        "    train(lyricsModel, train_loader, use_lyrics=True, use_features=False)"
      ]
    },
    {
      "cell_type": "markdown",
      "metadata": {
        "id": "3WxsXUo_6Scj"
      },
      "source": [
        "We see the training accuracy increases over epochs and arrives at 76.2% accuracy. Now we evaluate the model on the testing data."
      ]
    },
    {
      "cell_type": "code",
      "execution_count": null,
      "metadata": {
        "colab": {
          "base_uri": "https://localhost:8080/"
        },
        "id": "DI-O3-N6cv4f",
        "outputId": "e632ac8a-61db-49bc-da66-823fcfb2930e"
      },
      "outputs": [
        {
          "data": {
            "text/plain": [
              "0.26343612334801764"
            ]
          },
          "execution_count": 65,
          "metadata": {},
          "output_type": "execute_result"
        }
      ],
      "source": [
        "evaluate(lyricsModel, val_loader, use_lyrics=True, use_features=False)"
      ]
    },
    {
      "cell_type": "markdown",
      "metadata": {
        "id": "aHlyAB4n6I1s"
      },
      "source": [
        "The accuracy of the first neural network using only lyric only gives us 26.3% accuracy, which is only slightly larger than the base rate. Compare with 76.2% for training data, we suspect that the model was overfitted."
      ]
    },
    {
      "cell_type": "markdown",
      "metadata": {
        "id": "XchLZ-otjuRp"
      },
      "source": [
        "## Second Neural Network: Only Using Features"
      ]
    },
    {
      "cell_type": "markdown",
      "metadata": {
        "id": "NfWkJe6w6ji8"
      },
      "source": [
        "Now, we only use engineered features to train the neural network. The neural network architecture I am building here contains have five linear layers."
      ]
    },
    {
      "cell_type": "code",
      "execution_count": null,
      "metadata": {
        "id": "GYPRJBBRbvzF"
      },
      "outputs": [],
      "source": [
        "df_train, df_val = train_test_split(df,shuffle = True, test_size = 0.2)\n",
        "train_data = TextDataFromDF(df_train)\n",
        "val_data   = TextDataFromDF(df_val)\n",
        "\n",
        "train_loader = DataLoader(train_data, batch_size=16, shuffle=True, collate_fn=collate_batch)\n",
        "val_loader = DataLoader(val_data, batch_size=16, shuffle=True, collate_fn=collate_batch)"
      ]
    },
    {
      "cell_type": "code",
      "execution_count": null,
      "metadata": {
        "id": "lz2423xZoJW9"
      },
      "outputs": [],
      "source": [
        "import torch.nn as nn\n",
        "from  torch.nn import ReLU\n",
        "\n",
        "# second neural network that uses features\n",
        "class EngFeaturesClassModel(nn.Module):\n",
        "    def __init__(self, num_features, num_labels):\n",
        "        super().__init__()\n",
        "        self.pipeline = nn.Sequential(\n",
        "            nn.Flatten(),\n",
        "            nn.Linear(num_features, 128),\n",
        "            nn.ReLU(),\n",
        "            nn.Dropout(0.2),\n",
        "            nn.Linear(128, 64),\n",
        "            nn.ReLU(),\n",
        "            nn.Dropout(0.2),\n",
        "            nn.Linear(64, 32),\n",
        "            nn.ReLU(),\n",
        "            nn.Dropout(0.2),\n",
        "            nn.Linear(32, 16),\n",
        "            nn.ReLU(),\n",
        "            nn.Dropout(0.2),\n",
        "            nn.Linear(16, num_labels)\n",
        "        )\n",
        "    def forward(self, x):\n",
        "      return self.pipeline(x)"
      ]
    },
    {
      "cell_type": "code",
      "execution_count": null,
      "metadata": {
        "colab": {
          "base_uri": "https://localhost:8080/"
        },
        "id": "4Eqo71U2taGr",
        "outputId": "c9a151f3-4138-4eed-f727-e47e10be0076"
      },
      "outputs": [
        {
          "name": "stdout",
          "output_type": "stream",
          "text": [
            "| epoch   1 | train accuracy    0.286 | time: 14.22s\n",
            "| epoch   2 | train accuracy    0.334 | time: 14.05s\n",
            "| epoch   3 | train accuracy    0.339 | time: 14.42s\n",
            "| epoch   4 | train accuracy    0.345 | time: 13.28s\n",
            "| epoch   5 | train accuracy    0.353 | time: 13.61s\n",
            "| epoch   6 | train accuracy    0.356 | time: 13.83s\n",
            "| epoch   7 | train accuracy    0.358 | time: 15.70s\n",
            "| epoch   8 | train accuracy    0.360 | time: 16.88s\n",
            "| epoch   9 | train accuracy    0.364 | time: 17.78s\n",
            "| epoch  10 | train accuracy    0.364 | time: 14.22s\n",
            "| epoch  11 | train accuracy    0.369 | time: 14.71s\n",
            "| epoch  12 | train accuracy    0.366 | time: 13.95s\n",
            "| epoch  13 | train accuracy    0.370 | time: 14.64s\n",
            "| epoch  14 | train accuracy    0.372 | time: 15.71s\n",
            "| epoch  15 | train accuracy    0.373 | time: 15.22s\n",
            "| epoch  16 | train accuracy    0.372 | time: 14.03s\n",
            "| epoch  17 | train accuracy    0.374 | time: 14.18s\n",
            "| epoch  18 | train accuracy    0.379 | time: 18.42s\n",
            "| epoch  19 | train accuracy    0.375 | time: 14.13s\n",
            "| epoch  20 | train accuracy    0.383 | time: 13.89s\n",
            "| epoch  21 | train accuracy    0.377 | time: 14.06s\n",
            "| epoch  22 | train accuracy    0.380 | time: 15.05s\n",
            "| epoch  23 | train accuracy    0.378 | time: 14.89s\n",
            "| epoch  24 | train accuracy    0.384 | time: 15.13s\n",
            "| epoch  25 | train accuracy    0.381 | time: 19.34s\n",
            "| epoch  26 | train accuracy    0.386 | time: 18.07s\n",
            "| epoch  27 | train accuracy    0.383 | time: 14.48s\n",
            "| epoch  28 | train accuracy    0.383 | time: 14.99s\n",
            "| epoch  29 | train accuracy    0.384 | time: 14.70s\n",
            "| epoch  30 | train accuracy    0.389 | time: 13.15s\n",
            "| epoch  31 | train accuracy    0.383 | time: 14.29s\n",
            "| epoch  32 | train accuracy    0.384 | time: 14.56s\n",
            "| epoch  33 | train accuracy    0.386 | time: 15.49s\n",
            "| epoch  34 | train accuracy    0.390 | time: 16.97s\n",
            "| epoch  35 | train accuracy    0.391 | time: 14.01s\n",
            "| epoch  36 | train accuracy    0.391 | time: 15.62s\n",
            "| epoch  37 | train accuracy    0.392 | time: 15.12s\n",
            "| epoch  38 | train accuracy    0.390 | time: 14.01s\n",
            "| epoch  39 | train accuracy    0.390 | time: 14.20s\n",
            "| epoch  40 | train accuracy    0.389 | time: 14.39s\n",
            "| epoch  41 | train accuracy    0.389 | time: 14.24s\n",
            "| epoch  42 | train accuracy    0.391 | time: 14.64s\n",
            "| epoch  43 | train accuracy    0.392 | time: 15.28s\n",
            "| epoch  44 | train accuracy    0.391 | time: 14.67s\n",
            "| epoch  45 | train accuracy    0.395 | time: 14.80s\n",
            "| epoch  46 | train accuracy    0.398 | time: 14.28s\n",
            "| epoch  47 | train accuracy    0.395 | time: 16.61s\n",
            "| epoch  48 | train accuracy    0.390 | time: 14.63s\n",
            "| epoch  49 | train accuracy    0.396 | time: 14.35s\n",
            "| epoch  50 | train accuracy    0.396 | time: 14.11s\n"
          ]
        }
      ],
      "source": [
        "num_features = 22\n",
        "num_labels = 7\n",
        "feature_model = EngFeaturesClassModel(num_features, num_labels).to(device)\n",
        "\n",
        "# initialize optimizer and loss function\n",
        "optimizer = torch.optim.Adam(feature_model.parameters(), lr=.001)\n",
        "loss_fn = torch.nn.CrossEntropyLoss()\n",
        "\n",
        "# set epoch to be 50\n",
        "EPOCHS = 50\n",
        "for epoch in range(1, EPOCHS + 1):\n",
        "    train(feature_model, train_loader, use_lyrics=False, use_features=True)"
      ]
    },
    {
      "cell_type": "code",
      "execution_count": null,
      "metadata": {
        "colab": {
          "base_uri": "https://localhost:8080/"
        },
        "id": "W1G7X-feUPmx",
        "outputId": "141ae4db-8a95-44c4-a0e0-1de9b910a521"
      },
      "outputs": [
        {
          "data": {
            "text/plain": [
              "0.3744493392070485"
            ]
          },
          "execution_count": 72,
          "metadata": {},
          "output_type": "execute_result"
        }
      ],
      "source": [
        "evaluate(feature_model, val_loader, use_lyrics=False, use_features=True)"
      ]
    },
    {
      "cell_type": "markdown",
      "metadata": {
        "id": "-Jw3sYh08eDu"
      },
      "source": [
        "The final accuracy is around 37.4%, which is a larger improvement from predicting the genre only using lyrics."
      ]
    },
    {
      "cell_type": "markdown",
      "metadata": {
        "id": "1DXqrYOxmHXJ"
      },
      "source": [
        "## Both lyrics and engineered features"
      ]
    },
    {
      "cell_type": "markdown",
      "metadata": {
        "id": "jxI3X-8L8pP3"
      },
      "source": [
        "Building the final neural network, we consider both lyrics and engineered features. The network has three pipelines, one for lyrics, one for features, and the other one for the combined, which is for the concatenated result of the lyrics and the features."
      ]
    },
    {
      "cell_type": "code",
      "execution_count": 18,
      "metadata": {
        "id": "I4nICZq1mSNo"
      },
      "outputs": [],
      "source": [
        "class CombinedNet(nn.Module):\n",
        "\n",
        "    def __init__(self, num_labels, vocab_size, embedding_dim, num_features, max_len):\n",
        "        super().__init__()\n",
        "\n",
        "        # lyrics model\n",
        "        self.lyric_pipeline = torch.nn.Sequential(\n",
        "            nn.Embedding(vocab_size+1, embedding_dim),\n",
        "            nn.Flatten(),\n",
        "            nn.Dropout(0.2),\n",
        "            nn.Linear(max_len*embedding_dim, num_labels))\n",
        "\n",
        "        # feature model\n",
        "        self.feature_pipeline = nn.Sequential(\n",
        "            nn.Flatten(),\n",
        "            nn.Linear(num_features, 512),\n",
        "            nn.ReLU(),\n",
        "            nn.Dropout(0.2),\n",
        "            nn.Linear(512, 128),\n",
        "            nn.ReLU(),\n",
        "            nn.Dropout(0.2),\n",
        "            nn.Linear(128, 32),\n",
        "            nn.ReLU(),\n",
        "            nn.Dropout(0.2),\n",
        "            nn.Linear(32, num_labels))\n",
        "\n",
        "        # Combined Layers\n",
        "        self.combine_model = nn.Sequential(\n",
        "            nn.Linear(14, 512),\n",
        "            nn.Linear(512, 256),\n",
        "            nn.Linear(256, 64),\n",
        "            nn.Linear(64, num_labels))\n",
        "\n",
        "\n",
        "    def forward(self, x):\n",
        "        # separate x into x_1 (text features) and x_2 (engineered features)\n",
        "        x_lyrics, x_features = x\n",
        "        # apply lyric pipeline\n",
        "        x_1 = self.lyric_pipeline(x_lyrics)\n",
        "\n",
        "        # apply feature pipeline\n",
        "        x_2 = self.feature_pipeline(x_features)\n",
        "\n",
        "        # ensure that both x_1 and x_2 are 2-d tensors, flattening if necessary\n",
        "        # then, combine them with:\n",
        "        x = torch.cat((x_1, x_2), 1)\n",
        "        # pass x through a couple more fully-connected layers and return output\n",
        "        return self.combine_model(x)"
      ]
    },
    {
      "cell_type": "code",
      "execution_count": 19,
      "metadata": {
        "id": "kwHd9kknwOT5"
      },
      "outputs": [],
      "source": [
        "train_loader = DataLoader(train_data, batch_size=16, shuffle=True, collate_fn=collate_batch)\n",
        "val_loader = DataLoader(val_data, batch_size=16, shuffle=True, collate_fn=collate_batch)"
      ]
    },
    {
      "cell_type": "code",
      "execution_count": 25,
      "metadata": {
        "id": "4p-35YLiwRAk"
      },
      "outputs": [],
      "source": [
        "vocab_size = len(vocab)\n",
        "embedding_dim = 3\n",
        "num_features = 22\n",
        "num_labels = 7\n",
        "\n",
        "combined_model = CombinedNet(num_labels, vocab_size, embedding_dim, num_features, max_len).to(device)\n",
        "\n",
        "optimizer = torch.optim.Adam(combined_model.parameters(), lr=.001)\n",
        "loss_fn = torch.nn.CrossEntropyLoss()"
      ]
    },
    {
      "cell_type": "code",
      "execution_count": 26,
      "metadata": {
        "colab": {
          "base_uri": "https://localhost:8080/"
        },
        "id": "Ic5B6lnMwZvL",
        "outputId": "09a36490-1e22-4a22-d734-0cb31f820a17"
      },
      "outputs": [
        {
          "name": "stdout",
          "output_type": "stream",
          "text": [
            "| epoch   1 | train accuracy    0.309 | time: 26.07s\n",
            "| epoch   2 | train accuracy    0.354 | time: 26.07s\n",
            "| epoch   3 | train accuracy    0.361 | time: 26.26s\n",
            "| epoch   4 | train accuracy    0.370 | time: 27.73s\n",
            "| epoch   5 | train accuracy    0.381 | time: 26.10s\n",
            "| epoch   6 | train accuracy    0.381 | time: 31.87s\n",
            "| epoch   7 | train accuracy    0.392 | time: 31.11s\n",
            "| epoch   8 | train accuracy    0.407 | time: 27.16s\n",
            "| epoch   9 | train accuracy    0.414 | time: 28.44s\n",
            "| epoch  10 | train accuracy    0.420 | time: 28.45s\n",
            "| epoch  11 | train accuracy    0.432 | time: 26.51s\n",
            "| epoch  12 | train accuracy    0.436 | time: 28.85s\n",
            "| epoch  13 | train accuracy    0.447 | time: 27.98s\n",
            "| epoch  14 | train accuracy    0.453 | time: 28.38s\n",
            "| epoch  15 | train accuracy    0.464 | time: 27.27s\n",
            "| epoch  16 | train accuracy    0.472 | time: 26.10s\n",
            "| epoch  17 | train accuracy    0.485 | time: 26.36s\n",
            "| epoch  18 | train accuracy    0.493 | time: 28.43s\n",
            "| epoch  19 | train accuracy    0.498 | time: 26.11s\n",
            "| epoch  20 | train accuracy    0.511 | time: 26.91s\n",
            "| epoch  21 | train accuracy    0.517 | time: 25.98s\n",
            "| epoch  22 | train accuracy    0.523 | time: 25.67s\n",
            "| epoch  23 | train accuracy    0.535 | time: 25.22s\n",
            "| epoch  24 | train accuracy    0.545 | time: 28.83s\n",
            "| epoch  25 | train accuracy    0.547 | time: 31.67s\n",
            "| epoch  26 | train accuracy    0.558 | time: 31.40s\n",
            "| epoch  27 | train accuracy    0.566 | time: 31.25s\n",
            "| epoch  28 | train accuracy    0.573 | time: 29.74s\n",
            "| epoch  29 | train accuracy    0.580 | time: 27.59s\n",
            "| epoch  30 | train accuracy    0.590 | time: 28.27s\n",
            "| epoch  31 | train accuracy    0.599 | time: 26.19s\n",
            "| epoch  32 | train accuracy    0.602 | time: 26.82s\n",
            "| epoch  33 | train accuracy    0.612 | time: 27.40s\n",
            "| epoch  34 | train accuracy    0.619 | time: 27.20s\n",
            "| epoch  35 | train accuracy    0.627 | time: 27.24s\n",
            "| epoch  36 | train accuracy    0.630 | time: 27.64s\n",
            "| epoch  37 | train accuracy    0.640 | time: 27.41s\n",
            "| epoch  38 | train accuracy    0.644 | time: 29.35s\n",
            "| epoch  39 | train accuracy    0.651 | time: 27.29s\n",
            "| epoch  40 | train accuracy    0.655 | time: 27.47s\n"
          ]
        }
      ],
      "source": [
        "EPOCHS = 40\n",
        "for epoch in range(1, EPOCHS + 1):\n",
        "     train(combined_model, train_loader, use_lyrics=True, use_features=True)"
      ]
    },
    {
      "cell_type": "markdown",
      "metadata": {
        "id": "FKIo57bL-bal"
      },
      "source": [
        "We train the model for 40 epoch and arrives at 65.5% training accuracy."
      ]
    },
    {
      "cell_type": "code",
      "execution_count": 27,
      "metadata": {
        "colab": {
          "base_uri": "https://localhost:8080/"
        },
        "id": "fQAWLDhf_CTS",
        "outputId": "036c3070-4b75-4923-d2be-e47b61db0407"
      },
      "outputs": [
        {
          "data": {
            "text/plain": [
              "0.3490748898678414"
            ]
          },
          "execution_count": 27,
          "metadata": {},
          "output_type": "execute_result"
        }
      ],
      "source": [
        "evaluate(combined_model, val_loader, use_lyrics=True, use_features=True)"
      ]
    },
    {
      "cell_type": "markdown",
      "metadata": {
        "id": "lBfEJuwJ-gQN"
      },
      "source": [
        "We evaluate the third model and get a testing accuracy of 34.9%. The large discrepancy between training data accuracy and testing accuracy suggests an overfitting, which is similar what we have seen the first model. The accuracy of the third model is slightly lower than the second model that is only based on engineered features, implying that including more features does not necessarily improve the accuracy of deep learning neural network model."
      ]
    },
    {
      "cell_type": "markdown",
      "metadata": {
        "id": "4mp5qwy09qRT"
      },
      "source": [
        "#### Word Embedding Learned by My Model\n",
        "\n",
        "Here I will visualize the word embedding learned by my lyricsModel. We employ PCA to lower-dimensionalize higher-dimension embedding space to a two dimensional one."
      ]
    },
    {
      "cell_type": "code",
      "execution_count": 32,
      "metadata": {
        "colab": {
          "base_uri": "https://localhost:8080/",
          "height": 424
        },
        "id": "aTcmoCtsAtDs",
        "outputId": "6239b408-22e7-40e4-e201-70627b85e6ad"
      },
      "outputs": [
        {
          "data": {
            "application/vnd.google.colaboratory.intrinsic+json": {
              "summary": "{\n  \"name\": \"embedding_df\",\n  \"rows\": 45640,\n  \"fields\": [\n    {\n      \"column\": \"word\",\n      \"properties\": {\n        \"dtype\": \"string\",\n        \"num_unique_values\": 45640,\n        \"samples\": [\n          \"weas\",\n          \"rockin\",\n          \"gwadada\"\n        ],\n        \"semantic_type\": \"\",\n        \"description\": \"\"\n      }\n    },\n    {\n      \"column\": \"x0\",\n      \"properties\": {\n        \"dtype\": \"float32\",\n        \"num_unique_values\": 45628,\n        \"samples\": [\n          0.1280411183834076,\n          -0.0654151439666748,\n          1.2973109483718872\n        ],\n        \"semantic_type\": \"\",\n        \"description\": \"\"\n      }\n    },\n    {\n      \"column\": \"x1\",\n      \"properties\": {\n        \"dtype\": \"float32\",\n        \"num_unique_values\": 45614,\n        \"samples\": [\n          -0.02954602986574173,\n          -0.9146871566772461,\n          0.03702978417277336\n        ],\n        \"semantic_type\": \"\",\n        \"description\": \"\"\n      }\n    }\n  ]\n}",
              "type": "dataframe",
              "variable_name": "embedding_df"
            },
            "text/html": [
              "\n",
              "  <div id=\"df-522f987b-d8d7-4d7e-bcb8-65cc47e63ca9\" class=\"colab-df-container\">\n",
              "    <div>\n",
              "<style scoped>\n",
              "    .dataframe tbody tr th:only-of-type {\n",
              "        vertical-align: middle;\n",
              "    }\n",
              "\n",
              "    .dataframe tbody tr th {\n",
              "        vertical-align: top;\n",
              "    }\n",
              "\n",
              "    .dataframe thead th {\n",
              "        text-align: right;\n",
              "    }\n",
              "</style>\n",
              "<table border=\"1\" class=\"dataframe\">\n",
              "  <thead>\n",
              "    <tr style=\"text-align: right;\">\n",
              "      <th></th>\n",
              "      <th>word</th>\n",
              "      <th>x0</th>\n",
              "      <th>x1</th>\n",
              "    </tr>\n",
              "  </thead>\n",
              "  <tbody>\n",
              "    <tr>\n",
              "      <th>0</th>\n",
              "      <td>&lt;unk&gt;</td>\n",
              "      <td>0.945412</td>\n",
              "      <td>0.005695</td>\n",
              "    </tr>\n",
              "    <tr>\n",
              "      <th>1</th>\n",
              "      <td>know</td>\n",
              "      <td>-0.579282</td>\n",
              "      <td>-1.324462</td>\n",
              "    </tr>\n",
              "    <tr>\n",
              "      <th>2</th>\n",
              "      <td>like</td>\n",
              "      <td>-0.241303</td>\n",
              "      <td>-2.381207</td>\n",
              "    </tr>\n",
              "    <tr>\n",
              "      <th>3</th>\n",
              "      <td>time</td>\n",
              "      <td>-0.322583</td>\n",
              "      <td>-1.412938</td>\n",
              "    </tr>\n",
              "    <tr>\n",
              "      <th>4</th>\n",
              "      <td>come</td>\n",
              "      <td>-0.570501</td>\n",
              "      <td>1.544789</td>\n",
              "    </tr>\n",
              "    <tr>\n",
              "      <th>...</th>\n",
              "      <td>...</td>\n",
              "      <td>...</td>\n",
              "      <td>...</td>\n",
              "    </tr>\n",
              "    <tr>\n",
              "      <th>45635</th>\n",
              "      <td>한번쯤은</td>\n",
              "      <td>-0.188535</td>\n",
              "      <td>-0.387275</td>\n",
              "    </tr>\n",
              "    <tr>\n",
              "      <th>45636</th>\n",
              "      <td>함께라는</td>\n",
              "      <td>-0.594271</td>\n",
              "      <td>-1.230378</td>\n",
              "    </tr>\n",
              "    <tr>\n",
              "      <th>45637</th>\n",
              "      <td>힙부심뿐인</td>\n",
              "      <td>0.249295</td>\n",
              "      <td>-0.804218</td>\n",
              "    </tr>\n",
              "    <tr>\n",
              "      <th>45638</th>\n",
              "      <td>ﬁnished</td>\n",
              "      <td>0.815232</td>\n",
              "      <td>0.135954</td>\n",
              "    </tr>\n",
              "    <tr>\n",
              "      <th>45639</th>\n",
              "      <td></td>\n",
              "      <td>-0.308244</td>\n",
              "      <td>-0.421865</td>\n",
              "    </tr>\n",
              "  </tbody>\n",
              "</table>\n",
              "<p>45640 rows × 3 columns</p>\n",
              "</div>\n",
              "    <div class=\"colab-df-buttons\">\n",
              "\n",
              "  <div class=\"colab-df-container\">\n",
              "    <button class=\"colab-df-convert\" onclick=\"convertToInteractive('df-522f987b-d8d7-4d7e-bcb8-65cc47e63ca9')\"\n",
              "            title=\"Convert this dataframe to an interactive table.\"\n",
              "            style=\"display:none;\">\n",
              "\n",
              "  <svg xmlns=\"http://www.w3.org/2000/svg\" height=\"24px\" viewBox=\"0 -960 960 960\">\n",
              "    <path d=\"M120-120v-720h720v720H120Zm60-500h600v-160H180v160Zm220 220h160v-160H400v160Zm0 220h160v-160H400v160ZM180-400h160v-160H180v160Zm440 0h160v-160H620v160ZM180-180h160v-160H180v160Zm440 0h160v-160H620v160Z\"/>\n",
              "  </svg>\n",
              "    </button>\n",
              "\n",
              "  <style>\n",
              "    .colab-df-container {\n",
              "      display:flex;\n",
              "      gap: 12px;\n",
              "    }\n",
              "\n",
              "    .colab-df-convert {\n",
              "      background-color: #E8F0FE;\n",
              "      border: none;\n",
              "      border-radius: 50%;\n",
              "      cursor: pointer;\n",
              "      display: none;\n",
              "      fill: #1967D2;\n",
              "      height: 32px;\n",
              "      padding: 0 0 0 0;\n",
              "      width: 32px;\n",
              "    }\n",
              "\n",
              "    .colab-df-convert:hover {\n",
              "      background-color: #E2EBFA;\n",
              "      box-shadow: 0px 1px 2px rgba(60, 64, 67, 0.3), 0px 1px 3px 1px rgba(60, 64, 67, 0.15);\n",
              "      fill: #174EA6;\n",
              "    }\n",
              "\n",
              "    .colab-df-buttons div {\n",
              "      margin-bottom: 4px;\n",
              "    }\n",
              "\n",
              "    [theme=dark] .colab-df-convert {\n",
              "      background-color: #3B4455;\n",
              "      fill: #D2E3FC;\n",
              "    }\n",
              "\n",
              "    [theme=dark] .colab-df-convert:hover {\n",
              "      background-color: #434B5C;\n",
              "      box-shadow: 0px 1px 3px 1px rgba(0, 0, 0, 0.15);\n",
              "      filter: drop-shadow(0px 1px 2px rgba(0, 0, 0, 0.3));\n",
              "      fill: #FFFFFF;\n",
              "    }\n",
              "  </style>\n",
              "\n",
              "    <script>\n",
              "      const buttonEl =\n",
              "        document.querySelector('#df-522f987b-d8d7-4d7e-bcb8-65cc47e63ca9 button.colab-df-convert');\n",
              "      buttonEl.style.display =\n",
              "        google.colab.kernel.accessAllowed ? 'block' : 'none';\n",
              "\n",
              "      async function convertToInteractive(key) {\n",
              "        const element = document.querySelector('#df-522f987b-d8d7-4d7e-bcb8-65cc47e63ca9');\n",
              "        const dataTable =\n",
              "          await google.colab.kernel.invokeFunction('convertToInteractive',\n",
              "                                                    [key], {});\n",
              "        if (!dataTable) return;\n",
              "\n",
              "        const docLinkHtml = 'Like what you see? Visit the ' +\n",
              "          '<a target=\"_blank\" href=https://colab.research.google.com/notebooks/data_table.ipynb>data table notebook</a>'\n",
              "          + ' to learn more about interactive tables.';\n",
              "        element.innerHTML = '';\n",
              "        dataTable['output_type'] = 'display_data';\n",
              "        await google.colab.output.renderOutput(dataTable, element);\n",
              "        const docLink = document.createElement('div');\n",
              "        docLink.innerHTML = docLinkHtml;\n",
              "        element.appendChild(docLink);\n",
              "      }\n",
              "    </script>\n",
              "  </div>\n",
              "\n",
              "\n",
              "<div id=\"df-060b5623-84bb-455d-b8fb-22a14a0c4391\">\n",
              "  <button class=\"colab-df-quickchart\" onclick=\"quickchart('df-060b5623-84bb-455d-b8fb-22a14a0c4391')\"\n",
              "            title=\"Suggest charts\"\n",
              "            style=\"display:none;\">\n",
              "\n",
              "<svg xmlns=\"http://www.w3.org/2000/svg\" height=\"24px\"viewBox=\"0 0 24 24\"\n",
              "     width=\"24px\">\n",
              "    <g>\n",
              "        <path d=\"M19 3H5c-1.1 0-2 .9-2 2v14c0 1.1.9 2 2 2h14c1.1 0 2-.9 2-2V5c0-1.1-.9-2-2-2zM9 17H7v-7h2v7zm4 0h-2V7h2v10zm4 0h-2v-4h2v4z\"/>\n",
              "    </g>\n",
              "</svg>\n",
              "  </button>\n",
              "\n",
              "<style>\n",
              "  .colab-df-quickchart {\n",
              "      --bg-color: #E8F0FE;\n",
              "      --fill-color: #1967D2;\n",
              "      --hover-bg-color: #E2EBFA;\n",
              "      --hover-fill-color: #174EA6;\n",
              "      --disabled-fill-color: #AAA;\n",
              "      --disabled-bg-color: #DDD;\n",
              "  }\n",
              "\n",
              "  [theme=dark] .colab-df-quickchart {\n",
              "      --bg-color: #3B4455;\n",
              "      --fill-color: #D2E3FC;\n",
              "      --hover-bg-color: #434B5C;\n",
              "      --hover-fill-color: #FFFFFF;\n",
              "      --disabled-bg-color: #3B4455;\n",
              "      --disabled-fill-color: #666;\n",
              "  }\n",
              "\n",
              "  .colab-df-quickchart {\n",
              "    background-color: var(--bg-color);\n",
              "    border: none;\n",
              "    border-radius: 50%;\n",
              "    cursor: pointer;\n",
              "    display: none;\n",
              "    fill: var(--fill-color);\n",
              "    height: 32px;\n",
              "    padding: 0;\n",
              "    width: 32px;\n",
              "  }\n",
              "\n",
              "  .colab-df-quickchart:hover {\n",
              "    background-color: var(--hover-bg-color);\n",
              "    box-shadow: 0 1px 2px rgba(60, 64, 67, 0.3), 0 1px 3px 1px rgba(60, 64, 67, 0.15);\n",
              "    fill: var(--button-hover-fill-color);\n",
              "  }\n",
              "\n",
              "  .colab-df-quickchart-complete:disabled,\n",
              "  .colab-df-quickchart-complete:disabled:hover {\n",
              "    background-color: var(--disabled-bg-color);\n",
              "    fill: var(--disabled-fill-color);\n",
              "    box-shadow: none;\n",
              "  }\n",
              "\n",
              "  .colab-df-spinner {\n",
              "    border: 2px solid var(--fill-color);\n",
              "    border-color: transparent;\n",
              "    border-bottom-color: var(--fill-color);\n",
              "    animation:\n",
              "      spin 1s steps(1) infinite;\n",
              "  }\n",
              "\n",
              "  @keyframes spin {\n",
              "    0% {\n",
              "      border-color: transparent;\n",
              "      border-bottom-color: var(--fill-color);\n",
              "      border-left-color: var(--fill-color);\n",
              "    }\n",
              "    20% {\n",
              "      border-color: transparent;\n",
              "      border-left-color: var(--fill-color);\n",
              "      border-top-color: var(--fill-color);\n",
              "    }\n",
              "    30% {\n",
              "      border-color: transparent;\n",
              "      border-left-color: var(--fill-color);\n",
              "      border-top-color: var(--fill-color);\n",
              "      border-right-color: var(--fill-color);\n",
              "    }\n",
              "    40% {\n",
              "      border-color: transparent;\n",
              "      border-right-color: var(--fill-color);\n",
              "      border-top-color: var(--fill-color);\n",
              "    }\n",
              "    60% {\n",
              "      border-color: transparent;\n",
              "      border-right-color: var(--fill-color);\n",
              "    }\n",
              "    80% {\n",
              "      border-color: transparent;\n",
              "      border-right-color: var(--fill-color);\n",
              "      border-bottom-color: var(--fill-color);\n",
              "    }\n",
              "    90% {\n",
              "      border-color: transparent;\n",
              "      border-bottom-color: var(--fill-color);\n",
              "    }\n",
              "  }\n",
              "</style>\n",
              "\n",
              "  <script>\n",
              "    async function quickchart(key) {\n",
              "      const quickchartButtonEl =\n",
              "        document.querySelector('#' + key + ' button');\n",
              "      quickchartButtonEl.disabled = true;  // To prevent multiple clicks.\n",
              "      quickchartButtonEl.classList.add('colab-df-spinner');\n",
              "      try {\n",
              "        const charts = await google.colab.kernel.invokeFunction(\n",
              "            'suggestCharts', [key], {});\n",
              "      } catch (error) {\n",
              "        console.error('Error during call to suggestCharts:', error);\n",
              "      }\n",
              "      quickchartButtonEl.classList.remove('colab-df-spinner');\n",
              "      quickchartButtonEl.classList.add('colab-df-quickchart-complete');\n",
              "    }\n",
              "    (() => {\n",
              "      let quickchartButtonEl =\n",
              "        document.querySelector('#df-060b5623-84bb-455d-b8fb-22a14a0c4391 button');\n",
              "      quickchartButtonEl.style.display =\n",
              "        google.colab.kernel.accessAllowed ? 'block' : 'none';\n",
              "    })();\n",
              "  </script>\n",
              "</div>\n",
              "    </div>\n",
              "  </div>\n"
            ],
            "text/plain": [
              "          word        x0        x1\n",
              "0        <unk>  0.945412  0.005695\n",
              "1         know -0.579282 -1.324462\n",
              "2         like -0.241303 -2.381207\n",
              "3         time -0.322583 -1.412938\n",
              "4         come -0.570501  1.544789\n",
              "...        ...       ...       ...\n",
              "45635     한번쯤은 -0.188535 -0.387275\n",
              "45636     함께라는 -0.594271 -1.230378\n",
              "45637    힙부심뿐인  0.249295 -0.804218\n",
              "45638  ﬁnished  0.815232  0.135954\n",
              "45639          -0.308244 -0.421865\n",
              "\n",
              "[45640 rows x 3 columns]"
            ]
          },
          "execution_count": 32,
          "metadata": {},
          "output_type": "execute_result"
        }
      ],
      "source": [
        "embedding_matrix = lyricsModel.embedding.cpu().weight.data.numpy()\n",
        "\n",
        "# extract words from our vocabularies\n",
        "tokens = vocab.get_itos()\n",
        "\n",
        "# import PCA to get 2 dimensional representation\n",
        "from sklearn.decomposition import PCA\n",
        "pca = PCA(n_components=2)\n",
        "weights = pca.fit_transform(embedding_matrix)\n",
        "\n",
        "# plot\n",
        "tokens = vocab.get_itos()\n",
        "tokens.append(\" \")\n",
        "embedding_df = pd.DataFrame({\n",
        "    'word' : tokens,\n",
        "    'x0'   : weights[:,0],\n",
        "    'x1'   : weights[:,1]\n",
        "})\n",
        "\n",
        "embedding_df\n"
      ]
    },
    {
      "cell_type": "code",
      "execution_count": null,
      "metadata": {
        "colab": {
          "base_uri": "https://localhost:8080/",
          "height": 542
        },
        "id": "j3g1zGv-BDrQ",
        "outputId": "abc174e7-9ab2-4d4d-f18e-3f24e4365a42"
      },
      "outputs": [],
      "source": [
        "import numpy as np\n",
        "import plotly.express as px\n",
        "import plotly.io as pio\n",
        "\n",
        "fig = px.scatter(embedding_df,\n",
        "                 x = \"x0\",\n",
        "                 y = \"x1\",\n",
        "                 size = list(np.ones(len(embedding_df))),\n",
        "                 size_max = 10,\n",
        "                 hover_name = \"word\")\n",
        "\n",
        "fig.show()"
      ]
    },
    {
      "cell_type": "markdown",
      "metadata": {},
      "source": [
        "![Word Embedding Plot](newplot.png)  "
      ]
    },
    {
      "cell_type": "markdown",
      "metadata": {
        "id": "wyB5eF1s9qCK"
      },
      "source": [
        "Dots that represent words of the lyrics are everwhere. Personally, I am not very familiar with the lyrics used in different genres in English, so I do not see a clear pattern. If our neural network model trained on lyrics has learned word embeddings, the scatter plot should have 7 corners that represent the 7 genres, and words that are at the end of each corner are the most representative words for that genre. However, we do not see the corners here. This also explains why our neural network model trained only using lyrics does not have a good performance."
      ]
    },
    {
      "cell_type": "markdown",
      "metadata": {
        "id": "20VdRR_gEYXk"
      },
      "source": [
        "## Conclusion\n",
        "\n",
        "We constructed and trained three neural networks to classify music genre in this blog post. The three networks use (1) only lyrics, (2) only engineered features of the songs from Spotify, and (3) both lyrics and the engineered features. The base rate of the dataset for predicting a genre is 24.8%. For the result, these three models give us 26.3%, 37.4%, and 34.9% accuracy on testing data. Visualizing the word embedding plot, we found that the first model trained based on lyrics did not really learned the connection between words and how words could represent genres.\n",
        "\n",
        "Writing this blog post, I had the opportunity to construct a neural network architecture and implement it for the first time. By reconstructing the network and adjusting learning rate, I see how adding layers and different learning rates could affect the learning process of the machine. I also learned how to combine two pipelines together when constructing my third neural network, which will be very useful when we train a model using different types of features. Writing only one data loader class and one training/evaluation loop stretches me to code more efficiently."
      ]
    }
  ],
  "metadata": {
    "colab": {
      "provenance": []
    },
    "kernelspec": {
      "display_name": "Python 3",
      "name": "python3"
    },
    "language_info": {
      "codemirror_mode": {
        "name": "ipython",
        "version": 3
      },
      "file_extension": ".py",
      "mimetype": "text/x-python",
      "name": "python",
      "nbconvert_exporter": "python",
      "pygments_lexer": "ipython3",
      "version": "3.9.18"
    }
  },
  "nbformat": 4,
  "nbformat_minor": 0
}
